{
  "nbformat": 4,
  "nbformat_minor": 0,
  "metadata": {
    "colab": {
      "provenance": [],
      "authorship_tag": "ABX9TyMTwnRaeRNeejhC60ApjpGu",
      "include_colab_link": true
    },
    "kernelspec": {
      "name": "python3",
      "display_name": "Python 3"
    },
    "language_info": {
      "name": "python"
    }
  },
  "cells": [
    {
      "cell_type": "markdown",
      "metadata": {
        "id": "view-in-github",
        "colab_type": "text"
      },
      "source": [
        "<a href=\"https://colab.research.google.com/github/pulkitgpt5/Python/blob/main/Sorting_Problem_Day_1.ipynb\" target=\"_parent\"><img src=\"https://colab.research.google.com/assets/colab-badge.svg\" alt=\"Open In Colab\"/></a>"
      ]
    },
    {
      "cell_type": "code",
      "execution_count": 2,
      "metadata": {
        "colab": {
          "base_uri": "https://localhost:8080/"
        },
        "id": "UxXyVLpbkilo",
        "outputId": "adf98a3b-0d85-4c1d-c661-9271ce52ae0f"
      },
      "outputs": [
        {
          "output_type": "execute_result",
          "data": {
            "text/plain": [
              "[1, 2, 3, 4, 5]"
            ]
          },
          "metadata": {},
          "execution_count": 2
        }
      ],
      "source": [
        "# Implement Selection Sort\n",
        "def SelectionSort(arr):\n",
        "  for i in range(len(arr)):\n",
        "    min=i # first element compare with the all other element and swap if smaller\n",
        "    for j in range(i+1,len(arr)):\n",
        "      if arr[j]<arr[min]:\n",
        "        min=j\n",
        "    arr[i],arr[min]=arr[min],arr[i]\n",
        "  return arr\n",
        "\n",
        "SelectionSort([5,4,3,2,1])\n",
        "\n",
        "#Time Complexity: O(n^2)\n",
        "#Space Complexity: O(1)"
      ]
    },
    {
      "cell_type": "code",
      "source": [
        "# Implement Bubble Sort\n",
        "def BubbleSort(arr):\n",
        "  for i in range(len(arr)):\n",
        "    for j in range(len(arr)-i-1): # first two elements compare together if small then swap\n",
        "      if arr[j]>arr[j+1]:\n",
        "        arr[j],arr[j+1]=arr[j+1],arr[j]\n",
        "      return arr\n",
        "\n",
        "BubbleSort([5,4,3,2,1])\n",
        "\n",
        "#Time Complexity: O(n^2)\n",
        "#Space Complexity: O(n)"
      ],
      "metadata": {
        "colab": {
          "base_uri": "https://localhost:8080/"
        },
        "id": "tJEFCV4YluNK",
        "outputId": "42f42fa8-e49d-4c34-fd2a-ae8c49ced40c"
      },
      "execution_count": 3,
      "outputs": [
        {
          "output_type": "execute_result",
          "data": {
            "text/plain": [
              "[4, 5, 3, 2, 1]"
            ]
          },
          "metadata": {},
          "execution_count": 3
        }
      ]
    },
    {
      "cell_type": "code",
      "source": [
        "# Insertion Sort Most Optimized Solution\n",
        "def InsertionSort(arr):\n",
        "  for i in range(1,len(arr)):\n",
        "    key=arr[i]\n",
        "    j=i-1\n",
        "    while j>=0 and key<arr[j]:\n",
        "      arr[j+1]=arr[j]\n",
        "      j-=1\n",
        "    return arr"
      ],
      "metadata": {
        "id": "Ti1mc0wIms2r"
      },
      "execution_count": 4,
      "outputs": []
    },
    {
      "cell_type": "code",
      "source": [
        "# Insertion Sort Optimized Solution\n",
        "def InsertionSort(arr):\n",
        "  n=len(arr)\n",
        "  for i in range(0,n-1):\n",
        "    j=i+1\n",
        "    while j>0 and arr[j] < arr[j-1]:\n",
        "      arr[j],arr[j-1]=arr[j-1],arr[j]\n",
        "      j-=1\n",
        "  return arr\n",
        "\n",
        "InsertionSort([5,4,3,2,1])\n"
      ],
      "metadata": {
        "colab": {
          "base_uri": "https://localhost:8080/"
        },
        "id": "sZHLI2JHnz5g",
        "outputId": "4a2f12be-4fd6-4223-d868-7b267784e017"
      },
      "execution_count": 5,
      "outputs": [
        {
          "output_type": "execute_result",
          "data": {
            "text/plain": [
              "[1, 2, 3, 4, 5]"
            ]
          },
          "metadata": {},
          "execution_count": 5
        }
      ]
    },
    {
      "cell_type": "code",
      "source": [
        "# Merge Sort Itertaive Solution"
      ],
      "metadata": {
        "id": "7Jg1BtfcoNFX"
      },
      "execution_count": null,
      "outputs": []
    },
    {
      "cell_type": "code",
      "source": [
        "# Merge Sort Recursive Solution"
      ],
      "metadata": {
        "id": "Zc9jkwTKocq4"
      },
      "execution_count": null,
      "outputs": []
    },
    {
      "cell_type": "code",
      "source": [
        "# Quick Sort Iterative Solution"
      ],
      "metadata": {
        "id": "AMC9yBtAofdH"
      },
      "execution_count": null,
      "outputs": []
    },
    {
      "cell_type": "code",
      "source": [
        "# Quick Sort Random Partition Solution"
      ],
      "metadata": {
        "id": "3a1jviiNooOg"
      },
      "execution_count": null,
      "outputs": []
    }
  ]
}